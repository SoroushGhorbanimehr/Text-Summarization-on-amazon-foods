{
  "nbformat": 4,
  "nbformat_minor": 0,
  "metadata": {
    "colab": {
      "name": "Whats ROUGE Metrics?.ipynb",
      "provenance": []
    },
    "kernelspec": {
      "name": "python3",
      "display_name": "Python 3"
    },
    "language_info": {
      "name": "python"
    }
  },
  "cells": [
    {
      "cell_type": "markdown",
      "metadata": {
        "id": "OGMbPQpYdVhH"
      },
      "source": [
        "# ROUGE Theory"
      ]
    },
    {
      "cell_type": "markdown",
      "metadata": {
        "id": "4_6IALtadaim"
      },
      "source": [
        "ROUGE, or Recall-Oriented Understudy for Gisting Evaluation,**bold text** is a set of metrics and a software package used for evaluating automatic summarization and machine translation software in natural language processing. The metrics compare an automatically produced summary or translation against a reference or a set of references (human-produced) summary or translation."
      ]
    },
    {
      "cell_type": "markdown",
      "metadata": {
        "id": "0-UQl2OseRNX"
      },
      "source": [
        "**The following five evaluation metrics are available.**\n",
        "\n",
        "ROUGE-N: Overlap of N-grams between the system and reference summaries.\n",
        "\n",
        "ROUGE-1 refers to the overlap of unigram (each word) between the system and reference summaries.\n",
        "\n",
        "ROUGE-2 refers to the overlap of bigrams between the system and reference summaries.\n",
        "\n",
        "ROUGE-L: Longest Common Subsequence (LCS) based statistics. Longest common subsequence problem takes into account sentence level structure similarity naturally and identifies longest co-occurring in sequence n-grams automatically.\n",
        "\n",
        "ROUGE-W: Weighted LCS-based statistics that favors consecutive LCSes .\n",
        "\n",
        "ROUGE-S: Skip-bigram based co-occurrence statistics. Skip-bigram is any pair of words in their sentence order.\n",
        "\n",
        "ROUGE-SU: Skip-bigram plus unigram-based co-occurrence statistics."
      ]
    },
    {
      "cell_type": "markdown",
      "metadata": {
        "id": "x_lrXZAp4Cjc"
      },
      "source": [
        "# ROUGE Score\n"
      ]
    },
    {
      "cell_type": "code",
      "metadata": {
        "id": "cdpguXeC2yMJ"
      },
      "source": [
        "\n",
        "from rouge_score import rouge_scorer, scoring\n",
        "from rouge import Rouge\n",
        "from rouge_score import rouge_scorer\n",
        "\n",
        "scores = []\n",
        "\n",
        "for i in range(0, 150):\n",
        "    scorer = rouge_scorer.RougeScorer(['rouge1' ], use_stemmer=True)\n",
        "    score = scorer.score(\n",
        "                seq2summary(y_tr[i]), \n",
        "                decode_sequence(x_tr[i].reshape(1,max_text_len))\n",
        "              )\n",
        "    scores.append(score)"
      ],
      "execution_count": null,
      "outputs": []
    },
    {
      "cell_type": "code",
      "metadata": {
        "id": "Tj4pALuu4GE7"
      },
      "source": [
        "decode_sequence(x_test[0].reshape(1,max_text_len))"
      ],
      "execution_count": null,
      "outputs": []
    },
    {
      "cell_type": "code",
      "metadata": {
        "id": "1wjKWpcGIfB7"
      },
      "source": [
        "scores"
      ],
      "execution_count": null,
      "outputs": []
    },
    {
      "cell_type": "code",
      "metadata": {
        "id": "kpTwIQpBOmBD"
      },
      "source": [
        "num = []\n",
        "for i in range(0 , 150):\n",
        "  \n",
        "  z = scores[i]['rouge1']\n",
        "  num.append(z[2])\n",
        "print(num)"
      ],
      "execution_count": null,
      "outputs": []
    },
    {
      "cell_type": "code",
      "metadata": {
        "id": "rUZI0OAOQO1p"
      },
      "source": [
        "res_sum = 0 \n",
        "for ele in num: \n",
        "    res_sum += float(ele)\n",
        "\n",
        "\n",
        "print( 'average is :   '    ,  \"{0:.0f}%\".format(res_sum/150 * 100) )\n",
        "\n",
        "print( 'average is :   '    , res_sum/150 * 100 ,'%' )\n"
      ],
      "execution_count": null,
      "outputs": []
    }
  ]
}